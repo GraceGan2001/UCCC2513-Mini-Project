{
 "cells": [
  {
   "cell_type": "markdown",
   "id": "14cc2fe7",
   "metadata": {},
   "source": [
    "# Setup"
   ]
  },
  {
   "cell_type": "code",
   "execution_count": null,
   "id": "ee4481a4",
   "metadata": {},
   "outputs": [],
   "source": [
    "import sys\n",
    "assert sys.version_info >= (3, 7)\n",
    "\n",
    "import cv2 as cv\n",
    "import numpy as np\n",
    "from util_func import show_img"
   ]
  },
  {
   "cell_type": "markdown",
   "id": "4b4f73a1",
   "metadata": {},
   "source": [
    "# Exercise 1\n",
    "Create a random noise color and grayscale image. You can set your own width and height, but keep the total number of pixels of both images identical."
   ]
  },
  {
   "cell_type": "code",
   "execution_count": 3,
   "id": "f643f037",
   "metadata": {},
   "outputs": [],
   "source": [
    "# Image dimensions\n",
    "width = 500\n",
    "height = 500\n",
    "total_pixels = width * height\n",
    "\n",
    "color_image = np.random.randint(0, 256, (height, width, 3), dtype=np.uint8)\n",
    "grayscale_image = cv.cvtColor(color_image, cv.COLOR_RGB2GRAY)\n",
    "\n",
    "cv.imshow(\"Random Color Image\", color_image)\n",
    "cv.imshow(\"Grayscale Image\", grayscale_image)\n",
    "\n",
    "cv.waitKey(0)\n",
    "cv.destroyAllWindows()"
   ]
  },
  {
   "cell_type": "markdown",
   "id": "fb77173b",
   "metadata": {},
   "source": [
    "# Exercise 2\n",
    "Convert the code chunk found under section \"Divide an image into smaller patches using cropping\" into a function with the following signature:\n",
    "crop_grid(img, num_horizontal_grid, num_vertical_grid, line_color)"
   ]
  },
  {
   "cell_type": "code",
   "execution_count": 4,
   "id": "9ceceba8",
   "metadata": {},
   "outputs": [],
   "source": [
    "# img is the source image\n",
    "# num_horizontal_grid and num_vertical_grid are the number of patches along x and y axes.\n",
    "# line_color is the color of the grid line.\n",
    "# The output of the function should be image with grids\n",
    "def crop_grid(img, num_horizontal_grid, num_vertical_grid, line_color):\n",
    "    img_copy = img.copy()\n",
    "\n",
    "    height, width = img.shape[:2]\n",
    "\n",
    "    # M and N are basically number of pixels per patch\n",
    "    M, N = int(height / num_vertical_grid), int(width / num_horizontal_grid)\n",
    "\n",
    "    x1, y1 = 0, 0\n",
    "\n",
    "    for y in range(0, height, M):\n",
    "        for x in range(0, width, N):\n",
    "        \n",
    "            y1 = y + M\n",
    "            x1 = x + N\n",
    "        \n",
    "            if x1>=width and y1>=height:\n",
    "                x1 = width-1\n",
    "                y1 = height-1\n",
    "                tile = img[y:height, x:width]\n",
    "                cv.rectangle(img_copy, (x,y), (x1, y1), (0, 255, 0), 1)\n",
    "                cv.imshow('tile', tile)\n",
    "            \n",
    "            elif y1>=height:\n",
    "                y1 = height-1\n",
    "                cv.rectangle(img_copy, (x, y), (x1, y1), (0, 255, 0), 1)\n",
    "            \n",
    "            elif x1>=width:\n",
    "                x1 = width-1\n",
    "                cv.rectangle(img_copy, (x, y), (x1, y1), (0, 255, 0), 1)\n",
    "            \n",
    "            else:\n",
    "                cv.rectangle(img_copy, (x, y), (x1, y1), (0, 255, 0), 1)\n",
    "            \n",
    "    cv.imshow('patched image', img_copy)\n",
    "    cv.waitKey(0)\n",
    "    cv.destroyAllWindows()\n",
    "    \n",
    "# call the function\n",
    "img = cv.imread('images/dog.jfif')\n",
    "num_vertical_grid = 2\n",
    "num_horizontal_grid = 3\n",
    "grid_line_color = (0, 255, 0)  # Green color\n",
    "\n",
    "crop_grid(img, num_horizontal_grid, num_vertical_grid, grid_line_color)"
   ]
  },
  {
   "cell_type": "markdown",
   "id": "af366b41",
   "metadata": {},
   "source": [
    "# Exercise 3\n",
    "Display image sequences of smooth transition of two images with different values of α.\n",
    "Refer to code in section \"Image blending\". Use \"lena.jfif\" and \"coins.jfif\" as the base images."
   ]
  },
  {
   "cell_type": "code",
   "execution_count": 5,
   "id": "5de63e1c",
   "metadata": {},
   "outputs": [],
   "source": [
    "# Load the two images\n",
    "img1 = cv.imread(\"images/lena.jfif\")\n",
    "img2 = cv.imread(\"images/coins.jfif\")\n",
    "\n",
    "h, w = img1.shape[:2]\n",
    "img2 = cv.resize(img2, (w, h))\n",
    "\n",
    "# Number of frames for the transition\n",
    "num_frames = 30\n",
    "\n",
    "# Perform the smooth transition\n",
    "for i in range(num_frames):\n",
    "    alpha = i / (num_frames - 1)\n",
    "    blended_img = cv.addWeighted(img1, alpha, img2, 1 - alpha, 0)\n",
    "    cv.imshow(\"Blended Image\", blended_img)\n",
    "    if cv.waitKey(100) & 0xFF == 27:  # Press 'Esc' to break the loop\n",
    "        break\n",
    "\n",
    "cv.destroyAllWindows()"
   ]
  },
  {
   "cell_type": "markdown",
   "id": "d434683b",
   "metadata": {},
   "source": [
    "# Exercise 4\n",
    "Suppose you are a digital content creator and wish to share photo online. However, you wish to protect these images from being stolen or altered by others. Leverage your image processing knowledge to apply watermark on image \"travel_hd.jpg\". The example of resulting watermarked image are as shown in the following:"
   ]
  },
  {
   "cell_type": "code",
   "execution_count": 7,
   "id": "d2507ae3",
   "metadata": {},
   "outputs": [],
   "source": [
    "img = cv.imread(\"images/travel_hd.jpg\")\n",
    "wm = cv.imread(\"images/watermark.jpg\")\n",
    "\n",
    "h_img, w_img = img.shape[:2]\n",
    "h_wm, w_wm = wm.shape[:2]\n",
    "\n",
    "# Resize the watermark image to a desired size\n",
    "desired_width = 1000\n",
    "wm = cv.resize(wm, (desired_width, int(h_wm * desired_width / w_wm)))\n",
    "\n",
    "h_wm, w_wm = wm.shape[:2]\n",
    "\n",
    "# Place the watermark at the bottom-left corner of the image\n",
    "bottom_y = h_img - 100  \n",
    "left_x = 100 \n",
    "\n",
    "top_y = bottom_y - h_wm\n",
    "right_x = left_x + w_wm\n",
    "\n",
    "roi = img[top_y:bottom_y, left_x:right_x]\n",
    "result = cv.addWeighted(roi, 1, wm, 0.3, 0)\n",
    "img[top_y:bottom_y, left_x:right_x] = result\n",
    "\n",
    "# Resize the final image to a smaller size\n",
    "scale_percent = 10 # percent of original size\n",
    "width = int(img.shape[1] * scale_percent / 100)\n",
    "height = int(img.shape[0] * scale_percent / 100)\n",
    "dim = (width, height)\n",
    "\n",
    "resized = cv.resize(img, dim, interpolation = cv.INTER_AREA)\n",
    "\n",
    "cv.imshow(\"Watermarked Image \", resized)\n",
    "cv.waitKey(0)\n",
    "cv.destroyAllWindows()"
   ]
  },
  {
   "cell_type": "code",
   "execution_count": null,
   "id": "52664264",
   "metadata": {},
   "outputs": [],
   "source": []
  }
 ],
 "metadata": {
  "kernelspec": {
   "display_name": "Python 3 (ipykernel)",
   "language": "python",
   "name": "python3"
  },
  "language_info": {
   "codemirror_mode": {
    "name": "ipython",
    "version": 3
   },
   "file_extension": ".py",
   "mimetype": "text/x-python",
   "name": "python",
   "nbconvert_exporter": "python",
   "pygments_lexer": "ipython3",
   "version": "3.11.4"
  }
 },
 "nbformat": 4,
 "nbformat_minor": 5
}
