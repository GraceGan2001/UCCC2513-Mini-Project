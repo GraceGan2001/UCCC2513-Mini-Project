{
 "cells": [
  {
   "cell_type": "markdown",
   "id": "9ec9a671",
   "metadata": {},
   "source": [
    "# Exercise 3\n",
    "Write codes that performs the following:\n",
    "- Load the video “img_pexels.mp4” into the Python environment, resize it and display the videos with smaller frames (The frames can be of any size, as long as it is smaller). You can specify an arbitrary frame rate.\n",
    "- Save it as a separate files: “smaller_img_pexels.avi” or \"smaller_img_pexels.mp4\""
   ]
  },
  {
   "cell_type": "code",
   "execution_count": 1,
   "id": "26c05cfe",
   "metadata": {},
   "outputs": [],
   "source": [
    "import sys\n",
    "assert sys.version_info >= (3,7)\n",
    "\n",
    "import numpy as np\n",
    "import cv2 as cv"
   ]
  },
  {
   "cell_type": "code",
   "execution_count": 6,
   "id": "f9b6c7b9",
   "metadata": {},
   "outputs": [],
   "source": [
    "# Create a VideoCapture object to read the video\n",
    "cap = cv.VideoCapture(\"videos/img_pexels.mp4\")\n",
    "\n",
    "# Check if the video file was successfully opened\n",
    "if not cap.isOpened():\n",
    "    sys.exit(\"No such file!\")\n",
    "\n",
    "# Create a VideoWriter object to save the resized video\n",
    "output_path = \"smaller_img_pexels.avi\"  # or \"smaller_img_pexels.avi\"\n",
    "fourcc = cv.VideoWriter_fourcc(\"M\", \"J\", \"P\", \"G\")  # or \"XVID\" for AVI format\n",
    "new_width = 640\n",
    "new_height = 360\n",
    "new_fps = 60\n",
    "out = cv.VideoWriter(output_path, fourcc, new_fps, (new_width, new_height))\n",
    "\n",
    "# Read and display frames from the video until it's over or the user quits\n",
    "frame_count = 0\n",
    "while cap.isOpened():\n",
    "    # Read a single frame from the video\n",
    "    ret, frame = cap.read()\n",
    "\n",
    "    # Check if the frame was successfully read\n",
    "    if not ret:\n",
    "        print(\"No frame received!\")\n",
    "        break\n",
    "\n",
    "    # Resize the frame to the desired dimensions\n",
    "    resized_frame = cv.resize(frame, (new_width, new_height))\n",
    "\n",
    "    # Display the original video and resized frame \n",
    "    cv.imshow(\"Original Video\", frame)\n",
    "    cv.imshow(\"Resized Video\", resized_frame)\n",
    "    \n",
    "    # Save the resized frame to the output video file\n",
    "    out.write(resized_frame)\n",
    "\n",
    "    # Check if the user pressed the 'ESC' key to quit\n",
    "    k = cv.waitKey(1) & 0xFF\n",
    "    if k== 27:\n",
    "        break\n",
    "\n",
    "# Release the VideoCapture object and close any open windows\n",
    "# cap.release()\n",
    "out.release()\n",
    "cv.destroyAllWindows()"
   ]
  },
  {
   "cell_type": "markdown",
   "id": "20142198",
   "metadata": {},
   "source": [
    "# Exercise 4\n",
    "Enlarge the image \"dog.jfif\" by using different techniques: \n",
    "1) Linear interpolation, \n",
    "2) Cubic interpolation and \n",
    "3) nearest neighbor interpolation. \n",
    "Comment on the upscaled of all the outputs."
   ]
  },
  {
   "cell_type": "code",
   "execution_count": null,
   "id": "b77ca2c7",
   "metadata": {},
   "outputs": [],
   "source": [
    "import cv2 as cv"
   ]
  },
  {
   "cell_type": "code",
   "execution_count": 11,
   "id": "e976bc27",
   "metadata": {},
   "outputs": [],
   "source": [
    "# linear interpolation\n",
    "\n",
    "img = cv.imread('images/dog.jfif')\n",
    "\n",
    "# Increase the size by a factor of 3\n",
    "scaling_factor = 3  \n",
    "\n",
    "# Determine the new dimensions of the enlarged image\n",
    "new_width = int(img.shape[1] * scaling_factor)\n",
    "new_height = int(img.shape[0] * scaling_factor)\n",
    "\n",
    "img_resize = cv.resize(img, (new_width, new_height), interpolation=cv.INTER_LINEAR)\n",
    "\n",
    "cv.imshow('Enlarged_dog (Linear interpolation)', img_resize)\n",
    "cv.waitKey(0)\n",
    "cv.destroyAllWindows()"
   ]
  },
  {
   "cell_type": "code",
   "execution_count": 10,
   "id": "d978d562",
   "metadata": {},
   "outputs": [],
   "source": [
    "# Cubic interpolation\n",
    "\n",
    "img = cv.imread('images/dog.jfif')\n",
    "\n",
    "# Increase the size by a factor of 3\n",
    "scaling_factor = 3  \n",
    "\n",
    "# Determine the new dimensions of the enlarged image\n",
    "new_width = int(img.shape[1] * scaling_factor)\n",
    "new_height = int(img.shape[0] * scaling_factor)\n",
    "\n",
    "img_resize = cv.resize(img, (new_width, new_height), interpolation=cv.INTER_CUBIC)\n",
    "\n",
    "cv.imshow('Enlarged_dog (Cubic interpolation)', img_resize)\n",
    "cv.waitKey(0)\n",
    "cv.destroyAllWindows()"
   ]
  },
  {
   "cell_type": "code",
   "execution_count": 9,
   "id": "5b3edad6",
   "metadata": {},
   "outputs": [],
   "source": [
    "#Nearest neighbour interpolation\n",
    "\n",
    "img = cv.imread('images/dog.jfif')\n",
    "\n",
    "# Increase the size by a factor of 3\n",
    "scaling_factor = 3 \n",
    "\n",
    "# Determine the new dimensions of the enlarged image\n",
    "new_width = int(img.shape[1] * scaling_factor)\n",
    "new_height = int(img.shape[0] * scaling_factor)\n",
    "\n",
    "img_resize = cv.resize(img, (new_width, new_height), interpolation=cv.INTER_NEAREST)\n",
    "\n",
    "cv.imshow('Enlarged_dog (Nearest Neighbour interpolation)', img_resize)\n",
    "cv.waitKey(0)\n",
    "cv.destroyAllWindows()"
   ]
  }
 ],
 "metadata": {
  "kernelspec": {
   "display_name": "Python 3 (ipykernel)",
   "language": "python",
   "name": "python3"
  },
  "language_info": {
   "codemirror_mode": {
    "name": "ipython",
    "version": 3
   },
   "file_extension": ".py",
   "mimetype": "text/x-python",
   "name": "python",
   "nbconvert_exporter": "python",
   "pygments_lexer": "ipython3",
   "version": "3.11.4"
  }
 },
 "nbformat": 4,
 "nbformat_minor": 5
}
