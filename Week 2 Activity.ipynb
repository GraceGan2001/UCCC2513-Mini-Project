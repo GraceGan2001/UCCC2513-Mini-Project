{
 "cells": [
  {
   "cell_type": "code",
   "execution_count": 1,
   "id": "c926d2af",
   "metadata": {},
   "outputs": [
    {
     "name": "stdout",
     "output_type": "stream",
     "text": [
      "[0 1 2 3 4 5 6 7 8 9]\n",
      "[ 0  1  2  3 25 25 25  7  8  9]\n",
      "[-1 25 25]\n",
      "[ 0  1  2  3 25 25 25  7  8  9]\n"
     ]
    }
   ],
   "source": [
    "#Question 3\n",
    "#Propose a way to reassign arr_slice with new value without modifying my_arr\n",
    "import numpy as np\n",
    "my_arr = np.arange(10)\n",
    "print(my_arr)\n",
    "my_arr[4:7] = 25\n",
    "print(my_arr)\n",
    "\n",
    "#Assign arr_slice using copy()\n",
    "arr_slice = my_arr[4:7].copy() \n",
    "\n",
    "#Change the first element of arr_slice to -1\n",
    "arr_slice[0]= -1\n",
    "\n",
    "#Check if changes made in arr_slice will affect my_arr\n",
    "print(arr_slice)\n",
    "print(my_arr)"
   ]
  },
  {
   "cell_type": "code",
   "execution_count": 2,
   "id": "a452bafb",
   "metadata": {},
   "outputs": [
    {
     "data": {
      "image/png": "[encoded data removed]",
      "text/plain": [
       "<Figure size 640x480 with 1 Axes>"
      ]
     },
     "metadata": {},
     "output_type": "display_data"
    }
   ],
   "source": [
    "#Question 4\n",
    "#Create an image as shown as the following with the help of Numpy and matplotlib modules. \n",
    "#You can arbitrarily set the dimension of the image and white circular spot at the middle. \n",
    "import matplotlib.pyplot as plt\n",
    "import numpy as np\n",
    "\n",
    "# Create a black grayscale image\n",
    "image = np.zeros((200, 200), dtype=\"uint8\")\n",
    "\n",
    "# Calculate the coordinates of the center of the image\n",
    "center_x = 200 // 2\n",
    "center_y = 200 // 2\n",
    "\n",
    "# Set the radius of the circular spot\n",
    "radius = 50\n",
    "\n",
    "# Iterate over each pixel and set white to the pixels within the circle \n",
    "for x in range(200):\n",
    "    for y in range(200):\n",
    "        if (x - center_x) ** 2 + (y - center_y) ** 2 <= radius ** 2:\n",
    "            image[x, y] = 255\n",
    "\n",
    "# Display image\n",
    "plt.imshow(image, cmap = plt.cm.gray)\n",
    "plt.xticks([]), plt.yticks([])\n",
    "plt.show()"
   ]
  },
  {
   "cell_type": "code",
   "execution_count": null,
   "id": "2fd06ec4",
   "metadata": {},
   "outputs": [],
   "source": []
  }
 ],
 "metadata": {
  "kernelspec": {
   "display_name": "Python 3 (ipykernel)",
   "language": "python",
   "name": "python3"
  },
  "language_info": {
   "codemirror_mode": {
    "name": "ipython",
    "version": 3
   },
   "file_extension": ".py",
   "mimetype": "text/x-python",
   "name": "python",
   "nbconvert_exporter": "python",
   "pygments_lexer": "ipython3",
   "version": "3.10.9"
  }
 },
 "nbformat": 4,
 "nbformat_minor": 5
}
