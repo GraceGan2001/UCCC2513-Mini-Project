{
 "cells": [
  {
   "cell_type": "code",
   "execution_count": 1,
   "id": "bcf45edd",
   "metadata": {},
   "outputs": [],
   "source": [
    "import sys\n",
    "# assert Python 3.7 or later is required\n",
    "assert sys.version_info >= (3, 7)\n",
    "\n",
    "import cv2 as cv\n",
    "import numpy as np"
   ]
  },
  {
   "cell_type": "code",
   "execution_count": 2,
   "id": "25f18dc4",
   "metadata": {},
   "outputs": [
    {
     "name": "stdout",
     "output_type": "stream",
     "text": [
      "Collecting imutilsNote: you may need to restart the kernel to use updated packages.\n"
     ]
    },
    {
     "name": "stderr",
     "output_type": "stream",
     "text": [
      "\n",
      "[notice] A new release of pip is available: 23.1.2 -> 23.2.1\n",
      "[notice] To update, run: python.exe -m pip install --upgrade pip\n"
     ]
    },
    {
     "name": "stdout",
     "output_type": "stream",
     "text": [
      "\n",
      "  Downloading imutils-0.5.4.tar.gz (17 kB)\n",
      "  Installing build dependencies: started\n",
      "  Installing build dependencies: finished with status 'done'\n",
      "  Getting requirements to build wheel: started\n",
      "  Getting requirements to build wheel: finished with status 'done'\n",
      "  Preparing metadata (pyproject.toml): started\n",
      "  Preparing metadata (pyproject.toml): finished with status 'done'\n",
      "Building wheels for collected packages: imutils\n",
      "  Building wheel for imutils (pyproject.toml): started\n",
      "  Building wheel for imutils (pyproject.toml): finished with status 'done'\n",
      "  Created wheel for imutils: filename=imutils-0.5.4-py3-none-any.whl size=25854 sha256=1574557139d121d21e2a2b972f014d87aac0319989ea9a64e8e28458889a717d\n",
      "  Stored in directory: c:\\users\\grace\\appdata\\local\\pip\\cache\\wheels\\31\\d0\\2c\\87ce38f6052879e5b7b18f0f8b4a10ad2a9d210e908d449f16\n",
      "Successfully built imutils\n",
      "Installing collected packages: imutils\n",
      "Successfully installed imutils-0.5.4\n"
     ]
    }
   ],
   "source": [
    "pip install imutils"
   ]
  },
  {
   "cell_type": "markdown",
   "id": "da7b15c8",
   "metadata": {},
   "source": [
    "# Exercise 1\n",
    "Rotate image by 45 degrees without cropping the sides of the image. (Hint: There are 2 strategies to tackle these problems). Use \"lena.jfif\" as the input image.\n",
    "- Use external libraries imutils.\n",
    "- Modify the transformation matrix."
   ]
  },
  {
   "cell_type": "code",
   "execution_count": 5,
   "id": "3b5928a4",
   "metadata": {},
   "outputs": [],
   "source": [
    "# using imutils\n",
    "import imutils\n",
    "\n",
    "img = cv.imread('images/lena.jfif')\n",
    "\n",
    "# Rotate the image by 45 degrees without cropping\n",
    "rotated_img = imutils.rotate_bound(img, 45)\n",
    "\n",
    "# Display the original and rotated images\n",
    "cv.imshow(\"Original Image\", img)\n",
    "cv.imshow(\"Rotated Image\", rotated_img)\n",
    "cv.waitKey(0)\n",
    "cv.destroyAllWindows()"
   ]
  },
  {
   "cell_type": "code",
   "execution_count": 29,
   "id": "eb0c9d31",
   "metadata": {},
   "outputs": [],
   "source": [
    "# Modify the transformation matrix\n",
    "\n",
    "img = cv.imread('images/lena.jfif')\n",
    "\n",
    "# Get the center and the rotation matrix\n",
    "(h, w) = img.shape[:2]\n",
    "center = (w // 2, h // 2)\n",
    "angle = 45\n",
    "scale = 1.0\n",
    "\n",
    "# Modify the transformation matrix to avoid cropping\n",
    "M = cv.getRotationMatrix2D(center, angle, scale)\n",
    "\n",
    "# Get the sine and cosine of the angle\n",
    "sin_theta = abs(M[0, 1])\n",
    "cos_theta = abs(M[0, 0])\n",
    "\n",
    "# Compute the new bounding dimensions of the image\n",
    "new_w = int((h * sin_theta) + (w * cos_theta))\n",
    "new_h = int((h * cos_theta) + (w * sin_theta))\n",
    "\n",
    "# Adjust the rotation matrix to take the new dimensions into account\n",
    "M[0, 2] += (new_w / 2) - center[0]\n",
    "M[1, 2] += (new_h / 2) - center[1]\n",
    "\n",
    "# Apply the transformation to the image\n",
    "rotated_img = cv.warpAffine(img, M, (new_w, new_h))\n",
    "\n",
    "# Display the original and rotated images\n",
    "cv.imshow(\"Original Image\", img)\n",
    "cv.imshow(\"Rotated Image\", rotated_img)\n",
    "cv.waitKey(0)\n",
    "cv.destroyAllWindows()"
   ]
  },
  {
   "cell_type": "markdown",
   "id": "2883a9a8",
   "metadata": {},
   "source": [
    "# Exercise 2\n",
    "Use the images with titles: \"flower.jfif\" and \"native-bee.png\". I want to put flower above an image. If I add two images, it will change color. If I blend it, I get a transparent effect. But I want it to be opaque. If it was a rectangular region, we could use the ROI as we did in the previous section. But flower is not a rectangular region. This is where bitwise operations, like AND, OR, NOT and XOR really come in handy. The associated functions are cv.bitwise_and(), cv.bitwise_or() and cv.bitwise_not(). You need to use cv.threshold function to segment the flower. Please refer to online documentation for more info. "
   ]
  },
  {
   "cell_type": "code",
   "execution_count": 28,
   "id": "3c6cd261",
   "metadata": {},
   "outputs": [],
   "source": [
    "img1 = cv.imread('images/flower.jfif')\n",
    "img2 = cv.imread('images/native-bee.png')\n",
    "\n",
    "assert img1 is not None, \"file could not be read, check with os.path.exists()\"\n",
    "assert img2 is not None, \"file could not be read, check with os.path.exists()\"\n",
    "\n",
    "# I want to put logo on top-left corner, So I create a ROI\n",
    "rows,cols,channels = img1.shape\n",
    "roi = img2[0:rows, 0:cols]\n",
    "\n",
    "# Now create a mask of logo and create its inverse mask also\n",
    "img1gray = cv.cvtColor(img1,cv.COLOR_BGR2GRAY)\n",
    "ret, mask = cv.threshold(img2gray, 10, 255, cv.THRESH_BINARY)\n",
    "mask_inv = cv.bitwise_not(mask)\n",
    "\n",
    "# Now black-out the area of logo in ROI\n",
    "img2_bg = cv.bitwise_and(roi,roi,mask = mask_inv)\n",
    "\n",
    "# Take only region of logo from logo image.\n",
    "img1_fg = cv.bitwise_and(img1,img1,mask = mask)\n",
    "\n",
    "# Put logo in ROI and modify the main image\n",
    "dst = cv.add(img2_bg,img1_fg)\n",
    "img2[0:rows, 0:cols ] = dst\n",
    "cv.imshow('res',img2)\n",
    "cv.waitKey(0)\n",
    "cv.destroyAllWindows()"
   ]
  },
  {
   "cell_type": "markdown",
   "id": "04171298",
   "metadata": {},
   "source": [
    "# Exercise 3\n",
    "Apply custom sharpening kernel of aperture size 3 and 5 as shown below on 'native-bee.png':"
   ]
  },
  {
   "cell_type": "code",
   "execution_count": 27,
   "id": "2d6fa496",
   "metadata": {},
   "outputs": [],
   "source": [
    "# Load the 'native-bee.png' image\n",
    "image = cv.imread('images/native-bee.png')\n",
    "\n",
    "# Define custom sharpening kernels of aperture size 3 and 5\n",
    "kernel_size_3 = np.array([[0, -1, 0],\n",
    "                          [-1, 5, -1],\n",
    "                          [0, -1, 0]], dtype=np.float32)\n",
    "\n",
    "kernel_size_5 = np.array([[-1, -1, -1, -1, -1],\n",
    "                          [-1, -1, -1, -1, -1],\n",
    "                          [-1, -1, 25, -1, -1],\n",
    "                          [-1, -1, -1, -1, -1],\n",
    "                          [-1, -1, -1, -1, -1]], dtype=np.float32)\n",
    "\n",
    "# Apply the custom sharpening kernels using filter2D function\n",
    "sharpened_image_3 = cv.filter2D(image, -1, kernel_size_3)\n",
    "sharpened_image_5 = cv.filter2D(image, -1, kernel_size_5)\n",
    "\n",
    "# Display the original and sharpened images\n",
    "cv.imshow(\"Sharpened Image (Aperture Size 3)\", sharpened_image_3)\n",
    "cv.imshow(\"Sharpened Image (Aperture Size 5)\", sharpened_image_5)\n",
    "cv.waitKey(0)\n",
    "cv.destroyAllWindows()"
   ]
  },
  {
   "cell_type": "markdown",
   "id": "33db23e4",
   "metadata": {},
   "source": [
    "### What can you infer from the outputs?\n",
    "The sharpened image with an aperture size of 3 shows moderate edge enhancement, while the sharpened image with an aperture size of 5 exhibits a more pronounced sharpening effect with stronger edge enhancement and details."
   ]
  },
  {
   "cell_type": "markdown",
   "id": "4f1d443a",
   "metadata": {},
   "source": [
    "# Exercise 4\n",
    "Apply different image smoothing techniques (e.g. average filter, Gaussian kernel and median filter) on 'noise_lena.jpg' and display the resulting images after the convolution. Comment on the outcomes and deduce the type of noise present on the image."
   ]
  },
  {
   "cell_type": "code",
   "execution_count": 26,
   "id": "9aae49e2",
   "metadata": {},
   "outputs": [],
   "source": [
    "# Load the 'noise_lena.jpg' image\n",
    "image = cv.imread('images/noise_lena.jpg')\n",
    "\n",
    "# Apply average filter (box filter)\n",
    "average_filtered = cv.blur(image, (5, 5))\n",
    "\n",
    "# Apply Gaussian filter\n",
    "gaussian_filtered = cv.GaussianBlur(image, (5, 5), 0)\n",
    "\n",
    "# Apply median filter\n",
    "median_filtered = cv.medianBlur(image, 5)\n",
    "\n",
    "# Display the original and filtered images\n",
    "cv.imshow(\"Average Filtered Image\", average_filtered)\n",
    "cv.imshow(\"Gaussian Filtered Image\", gaussian_filtered)\n",
    "cv.imshow(\"Median Filtered Image\", median_filtered)\n",
    "cv.waitKey(0)\n",
    "cv.destroyAllWindows()"
   ]
  },
  {
   "cell_type": "markdown",
   "id": "191247bc",
   "metadata": {},
   "source": [
    "### Comment on the outcomes and deduce the type of noise present on the image.\n",
    "**1. Average filter**\n",
    "- appears slightly blurred compared to the original image. It reduces high-frequency noise but can also blur edges and fine details.\n",
    "- Gaussian noise\n",
    "\n",
    "**2. Gaussian filter**\n",
    "- smoother than the original, but it preserves edges better than the average filter. It reduces noise while maintaining image details.\n",
    "- Gaussian noise\n",
    "\n",
    "**3. Median filter**\n",
    "- effectively removes salt-and-pepper noise from the image while preserving edges. It tends to perform better than the other filters in removing impulse noise.\n",
    "- impulse noise (i.e., salt-and-pepper noise)"
   ]
  },
  {
   "cell_type": "code",
   "execution_count": null,
   "id": "5008ca08",
   "metadata": {},
   "outputs": [],
   "source": []
  }
 ],
 "metadata": {
  "kernelspec": {
   "display_name": "Python 3 (ipykernel)",
   "language": "python",
   "name": "python3"
  },
  "language_info": {
   "codemirror_mode": {
    "name": "ipython",
    "version": 3
   },
   "file_extension": ".py",
   "mimetype": "text/x-python",
   "name": "python",
   "nbconvert_exporter": "python",
   "pygments_lexer": "ipython3",
   "version": "3.11.4"
  }
 },
 "nbformat": 4,
 "nbformat_minor": 5
}
